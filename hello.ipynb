{
  "nbformat": 4,
  "nbformat_minor": 0,
  "metadata": {
    "colab": {
      "provenance": [],
      "authorship_tag": "ABX9TyN6hM5J3lqjVXhNV0err0Oc",
      "include_colab_link": true
    },
    "kernelspec": {
      "name": "python3",
      "display_name": "Python 3"
    },
    "language_info": {
      "name": "python"
    }
  },
  "cells": [
    {
      "cell_type": "markdown",
      "metadata": {
        "id": "view-in-github",
        "colab_type": "text"
      },
      "source": [
        "<a href=\"https://colab.research.google.com/github/VijayalakshmiRamasamy/DSandML/blob/main/hello.ipynb\" target=\"_parent\"><img src=\"https://colab.research.google.com/assets/colab-badge.svg\" alt=\"Open In Colab\"/></a>"
      ]
    },
    {
      "cell_type": "code",
      "execution_count": 1,
      "metadata": {
        "colab": {
          "base_uri": "https://localhost:8080/"
        },
        "id": "gWzJutK7Lfy6",
        "outputId": "978a0721-d774-4332-a029-9543308ffec3"
      },
      "outputs": [
        {
          "output_type": "stream",
          "name": "stdout",
          "text": [
            "Hello, GitHub from Google Colab!\n"
          ]
        }
      ],
      "source": [
        "print(\"Hello, GitHub from Google Colab!\")"
      ]
    },
    {
      "cell_type": "code",
      "source": [
        "# Example Python script to demonstrate saving to GitHub\n",
        "def greet():\n",
        "    return \"Hello, GitHub from Google Colab!\"\n",
        "\n",
        "print(greet())"
      ],
      "metadata": {
        "colab": {
          "base_uri": "https://localhost:8080/"
        },
        "id": "DHNqNy5xNcak",
        "outputId": "36a3eba7-b7de-41d1-b3a9-434784b11bc5"
      },
      "execution_count": 2,
      "outputs": [
        {
          "output_type": "stream",
          "name": "stdout",
          "text": [
            "Hello, GitHub from Google Colab!\n"
          ]
        }
      ]
    }
  ]
}